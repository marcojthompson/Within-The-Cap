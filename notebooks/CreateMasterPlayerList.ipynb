{
 "cells": [
  {
   "cell_type": "code",
   "execution_count": 1,
   "id": "3364393a",
   "metadata": {},
   "outputs": [],
   "source": [
    "# Header block to include all modules that must be imported ahead of time\n",
    "# Only needs to be run once per session, and each time a new module is added\n",
    "\n",
    "import requests\n",
    "import json\n",
    "import pandas as pd # this will need to be installed via command line first\n",
    "import glob\n",
    "import os\n",
    "\n",
    "pd.set_option('display.max_columns', None)\n",
    "pd.set_option('display.max_rows', None)"
   ]
  },
  {
   "cell_type": "code",
   "execution_count": null,
   "id": "831966cb",
   "metadata": {},
   "outputs": [],
   "source": [
    "# Method to create a dataframe of all nfl players and their salary cap hits\n",
    "# Relevent player data is from OverTheCap.com and Wikipedia.\n",
    "\n",
    "def CombineSalaryLists():\n",
    "    # The directory containing the player salary data from all 32 nfl teams\n",
    "    SalaryDataPath = \"./data/team-salary-lists/\"\n",
    "    \n",
    "    # Get a list of all the files in the directory\n",
    "    SalaryCSVList = glob.glob(SalaryDataPath + \"/*.csv\")\n",
    "    \n",
    "    # Create a list to store the individual dataframes\n",
    "    SalariesDFList = []\n",
    "    \n",
    "    # Loop through each file and append it to the list\n",
    "    for file in SalaryCSVList:\n",
    "        df = pd.read_csv(file)\n",
    "        SalariesDFList.append(df)\n",
    "    \n",
    "    # Combine all the dataframes into one\n",
    "    SalariesDF = pd.concat(SalariesDFList, ignore_index=True)\n",
    "    SalariesDF.columns\n",
    "    \n",
    "    return SalariesDF"
   ]
  }
 ],
 "metadata": {
  "kernelspec": {
   "display_name": "Python 3 (ipykernel)",
   "language": "python",
   "name": "python3"
  },
  "language_info": {
   "codemirror_mode": {
    "name": "ipython",
    "version": 3
   },
   "file_extension": ".py",
   "mimetype": "text/x-python",
   "name": "python",
   "nbconvert_exporter": "python",
   "pygments_lexer": "ipython3",
   "version": "3.8.10"
  }
 },
 "nbformat": 4,
 "nbformat_minor": 5
}
