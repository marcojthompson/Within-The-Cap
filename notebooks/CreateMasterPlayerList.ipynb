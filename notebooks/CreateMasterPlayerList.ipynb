{
 "cells": [
  {
   "cell_type": "code",
   "execution_count": 2,
   "id": "16ba83a4",
   "metadata": {},
   "outputs": [],
   "source": [
    "# Header block to include all modules that must be imported ahead of time\n",
    "# Only needs to be run once per session, and each time a new module is added\n",
    "\n",
    "import requests\n",
    "import json\n",
    "import pandas as pd # this will need to be installed via command line first\n",
    "pd.set_option('display.max_columns', None)\n",
    "pd.set_option('display.max_rows', None)"
   ]
  },
  {
   "cell_type": "code",
   "execution_count": 5,
   "id": "2f1f0d5a",
   "metadata": {
    "scrolled": true
   },
   "outputs": [
    {
     "data": {
      "text/plain": [
       "0"
      ]
     },
     "execution_count": 5,
     "metadata": {},
     "output_type": "execute_result"
    }
   ],
   "source": [
    "# Method to create a master player list\n",
    "# Combines the salary and attributes dataframes together\n",
    "\n",
    "def CreateMasterPlayerList():\n",
    "    # Get the salary and attributes dataframes and set their column names\n",
    "    SalariesDF = pd.read_csv(f'./data/team-salary-lists/zMaster-Player-Salary-List.csv', header = None)\n",
    "    SalariesDF.columns = ['Name', 'Team', 'Salary', 'Key']\n",
    "    AttributesDF = pd.read_csv(f'./data/player-attributes-lists/zMaster-Player-Attributes-List.csv', header = None)\n",
    "    AttributesDF.columns = ['Name', 'Team', 'Position', 'Height', 'Weight', 'DOB', 'Age', 'Experience', 'Key']\n",
    "    \n",
    "    # Merge the dataframes using the created keys, use suffixes to differentiate the similar columns\n",
    "    MasterDF = pd.merge(SalariesDF, AttributesDF, on='Key', how = 'inner', suffixes=('_sal', '_attr'))\n",
    "    # Drop the redundant columns\n",
    "    MasterDF.drop(columns = ['Name_attr', 'Team_attr'], inplace = True)\n",
    "    \n",
    "    # Rename, re-order columns for readability\n",
    "    MasterDF.columns = ['Name', 'Team', 'CapHit', 'PlayerID', 'Position', 'Height', 'Weight', 'DOB', 'Age', 'YrsExp']\n",
    "    NewColumnOrder = ['PlayerID', 'Name', 'Team', 'Position', 'Height', 'Weight', 'DOB', 'Age', 'YrsExp', 'CapHit']\n",
    "    MasterDF = MasterDF.loc[:, NewColumnOrder]\n",
    "    \n",
    "    # Check the datafame for duplicate rows (there almost certainly will be)\n",
    "    if (MasterDF.duplicated(subset=['PlayerID']).any()):\n",
    "        # print('There are duplicates in the master player list')\n",
    "        # print(MasterDF[MasterDF.duplicated(subset=['PlayerID'], keep = False)])\n",
    "        # The 1st, 4th rows of the 4 row duplicate groups are the correct rows to keep\n",
    "        MasterDF = MasterDF[~(MasterDF.duplicated('PlayerID', keep = 'first') & MasterDF.duplicated('PlayerID', keep = 'last'))]\n",
    "        \n",
    "    # Create a csv file of the master player list\n",
    "    MasterDF.to_csv(f'./data/Master-Player-List.csv', index = False)\n",
    "    \n",
    "    return 0\n",
    "\n",
    "CreateMasterPlayerList()"
   ]
  },
  {
   "cell_type": "code",
   "execution_count": null,
   "id": "e5206dbb",
   "metadata": {},
   "outputs": [],
   "source": []
  }
 ],
 "metadata": {
  "kernelspec": {
   "display_name": "Python 3 (ipykernel)",
   "language": "python",
   "name": "python3"
  },
  "language_info": {
   "codemirror_mode": {
    "name": "ipython",
    "version": 3
   },
   "file_extension": ".py",
   "mimetype": "text/x-python",
   "name": "python",
   "nbconvert_exporter": "python",
   "pygments_lexer": "ipython3",
   "version": "3.8.10"
  }
 },
 "nbformat": 4,
 "nbformat_minor": 5
}
