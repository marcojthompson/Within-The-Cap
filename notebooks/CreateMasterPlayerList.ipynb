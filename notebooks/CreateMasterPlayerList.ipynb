{
 "cells": [
  {
   "cell_type": "code",
   "execution_count": 33,
   "id": "16ba83a4",
   "metadata": {},
   "outputs": [],
   "source": [
    "# Header block to include all modules that must be imported ahead of time\n",
    "# Only needs to be run once per session, and each time a new module is added\n",
    "\n",
    "import requests\n",
    "import json\n",
    "import pandas as pd # this will need to be installed via command line first\n",
    "pd.set_option('display.max_columns', None)\n",
    "pd.set_option('display.max_rows', None)"
   ]
  },
  {
   "cell_type": "code",
   "execution_count": 37,
   "id": "2f1f0d5a",
   "metadata": {
    "scrolled": true
   },
   "outputs": [],
   "source": [
    "# Method to create a master player list\n",
    "# Combines the salary and attributes dataframes together\n",
    "\n",
    "def CreateMasterPlayerList():\n",
    "    # Get the salary and attributes dataframes\n",
    "    SalariesDF = CombineSalaryLists()\n",
    "    AttributesDF = CombineAttributesLists()\n",
    "    \n",
    "    # Set unique keys for both dataframes\n",
    "    SalariesDF['Key'] = SalariesDF['Name'][0][0] + SalariesDF['Name'][1] + SalariesDF['Team']\n",
    "    AttributesDF['Key'] = AttributesDF['Name'][0][0] + AttributesDF['Name'][1] + AttributesDF['Team']\n",
    "    \n",
    "    # Merge the dataframes using the created keys, use suffixes to differentiate the similar columns\n",
    "    MasterDF = pd.merge(SalariesDF, AttributesDF, on='Key', how = 'inner', suffixes=('_sal', '_attr'))\n",
    "    # Drop the redundant key column\n",
    "    # MasterDF.drop(columns = ['Key'], inplace = True)\n",
    "    \n",
    "    return MasterDF\n",
    "\n",
    "CreateMasterPlayerList()"
   ]
  },
  {
   "cell_type": "code",
   "execution_count": null,
   "id": "e5206dbb",
   "metadata": {},
   "outputs": [],
   "source": []
  }
 ],
 "metadata": {
  "kernelspec": {
   "display_name": "Python 3 (ipykernel)",
   "language": "python",
   "name": "python3"
  },
  "language_info": {
   "codemirror_mode": {
    "name": "ipython",
    "version": 3
   },
   "file_extension": ".py",
   "mimetype": "text/x-python",
   "name": "python",
   "nbconvert_exporter": "python",
   "pygments_lexer": "ipython3",
   "version": "3.8.10"
  }
 },
 "nbformat": 4,
 "nbformat_minor": 5
}
