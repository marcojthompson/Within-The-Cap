{
 "cells": [
  {
   "cell_type": "code",
   "execution_count": 1,
   "id": "603f188e",
   "metadata": {},
   "outputs": [],
   "source": [
    "# Header block to include all modules that must be imported ahead of time\n",
    "# Only needs to be run once per session, and each time a new module is added\n",
    "\n",
    "import requests\n",
    "import json\n",
    "import pandas as pd # this will need to be installed via command line first\n",
    "import lxml # this will need to be installed via command line first(as well)\n",
    "import html5lib # this will need to be installed via command line first\n",
    "import numpy as np\n",
    "import re"
   ]
  },
  {
   "cell_type": "code",
   "execution_count": 5,
   "id": "e1f1d9a5",
   "metadata": {},
   "outputs": [],
   "source": [
    "# Method to get the salary cap hits for every player currently signed on an NFL team\n",
    "# Creates a csv with columns player name, salary cap hit, and team location abbrviation \n",
    "\n",
    "def GetTeamSalaryCapHits(team):\n",
    "    # Use requests to get the raw HTML response from overthecap.com\n",
    "    OTCResponse = requests.get(f'https://overthecap.com/salary-cap/{team[0]}')\n",
    "        \n",
    "    # If we get a normal response proceed with data scraping\n",
    "    if OTCResponse.status_code == 200:\n",
    "        print(f\"Request succeeded with status code {OTCResponse.status_code}\")\n",
    "        TeamNameCaptalized = (team[0].replace(\"-\", \" \")).title()\n",
    "        print(f\"Here are the Salary Cap hits for all players who are currently signed with the {TeamNameCaptalized}:\")\n",
    "\n",
    "        # Pandas read_html method allows the table contents to be put into a DataFrame\n",
    "        TableTag = 'salary-cap-table contracted-players'\n",
    "        DataFrames = pd.read_html(OTCResponse.content, attrs = {'class': TableTag})\n",
    "        \n",
    "        # Select the specific parts of the dataframe we want \n",
    "        SalariesDF = DataFrames[0][['Player', 'Cap Number']]\n",
    "        if len(SalariesDF) >= 51:\n",
    "            SalariesDF = SalariesDF.drop(51, axis=0)\n",
    "        # Add team location abv to each player\n",
    "        SalariesDF = SalariesDF.assign(TeamLOC = team[1])\n",
    "        SalariesDF = SalariesDF.assign(TeamName = (team[0].replace(\"-\", \" \")).title())\n",
    "        \n",
    "        \n",
    "        # Change the order of columns to make more sense semantically \n",
    "        new_order = ['Player', 'TeamLOC', 'TeamName', 'Cap Number']\n",
    "        SalariesDF = SalariesDF.loc[:, new_order]\n",
    "        \n",
    "        # Specify filename and path\n",
    "        csvPathName = f'./salary-Lists/{TeamNameCaptalized}-Player-Salary-List.csv'\n",
    "        \n",
    "        # Create a .csv file with all the player names and their cap hits\n",
    "        SalariesDF.to_csv(csvPathName, index = False, header = False)\n",
    "        \n",
    "        # Read the csv back for testing purposes\n",
    "        SalariesCSV = pd.read_csv(f'./salary-Lists/{TeamNameCaptalized}-Player-Salary-List.csv', header = None)\n",
    "        SalariesCSV.columns = ['Player', 'TeamLOC', 'TeamName', 'Cap Number']\n",
    "        print(SalariesCSV)\n",
    "        \n",
    "    # If we don't get a normal reponse, stop scraping\n",
    "    else:\n",
    "        print(f\"Request failed with status code {OTCResponse.status_code}\")\n",
    "        return -1\n"
   ]
  },
  {
   "cell_type": "code",
   "execution_count": 6,
   "id": "0e70a908",
   "metadata": {
    "scrolled": true
   },
   "outputs": [
    {
     "name": "stdout",
     "output_type": "stream",
     "text": [
      "Request succeeded with status code 200\n",
      "Here are the Salary Cap hits for all players who are currently signed with the San Francisco 49Ers:\n",
      "             Player TeamLOC             TeamName   Cap Number\n",
      "0    Trent Williams      SF  San Francisco 49Ers  $31,568,542\n",
      "1      Deebo Samuel      SF  San Francisco 49Ers  $28,633,765\n",
      "2   Charvarius Ward      SF  San Francisco 49Ers  $18,401,000\n",
      "3         Nick Bosa      SF  San Francisco 49Ers  $14,671,000\n",
      "4     Brandon Aiyuk      SF  San Francisco 49Ers  $14,124,000\n",
      "..              ...     ...                  ...          ...\n",
      "86   Ricky Pearsall      SF  San Francisco 49Ers     $795,000\n",
      "87   Tayler Hawkins      SF  San Francisco 49Ers     $795,000\n",
      "88    Isaac Alarcon      SF  San Francisco 49Ers     $795,000\n",
      "89     Shakel Brown      SF  San Francisco 49Ers     $795,000\n",
      "90       Tay Martin      SF  San Francisco 49Ers     $795,000\n",
      "\n",
      "[91 rows x 4 columns]\n"
     ]
    }
   ],
   "source": [
    "# A list of links to Over The Cap Salary Cap pages for various teams\n",
    "NFLTeams = [['buffalo-bills', 'BUF'], ['miami-dolphins', 'MIA'], ['new-england-patriots', 'NE'], ['new-york-jets', 'NYJ'],\n",
    "            ['baltimore-ravens', 'BAL'], ['cincinnati-bengals', 'CIN'], ['cleveland-browns', 'CLE'], ['pittsburgh-steelers', 'PIT'],\n",
    "            ['houston-texans', 'HOU'], ['indianapolis-colts', 'IND'], ['jacksonville-jaguars', 'JAX'], ['tennessee-titans', 'TEN'], \n",
    "            ['denver-broncos', 'DEN'], ['kansas-city-chiefs', 'KC'], ['las-vegas-raiders', 'LV'], ['los-angeles-chargers', 'LAC'],\n",
    "            ['dallas-cowboys', 'DAL'], ['new-york-giants', 'NYG'], ['philadelphia-eagles', 'PHI'], ['washington-commanders', 'WSH'],\n",
    "            ['chicago-bears', 'CHI'], ['detroit-lions', 'DET'], ['green-bay-packers', 'GB'], ['minnesota-vikings', 'MIN'],\n",
    "            ['atlanta-falcons', 'ATL'], ['carolina-panthers', 'CAR'], ['new-orleans-saints', 'NO'], ['tampa-bay-buccaneers', 'TB'],\n",
    "            ['arizona-cardinals', 'ARI'], ['los-angeles-rams', 'LAR'], ['san-francisco-49ers', 'SF'], ['seattle-seahawks', 'SEA']\n",
    "           ]\n",
    "\n",
    "# Call the method defined above to get all the player data\n",
    "def GetMultipleTeamSalaryCapHits(TeamList):\n",
    "    for team in TeamList:\n",
    "        GetTeamSalaryCapHits(team)\n",
    "\n",
    "# GetMultipleTeamSalaryCapHits(NFLTeams)\n",
    "GetTeamSalaryCapHits(['san-francisco-49ers', 'SF'])"
   ]
  },
  {
   "cell_type": "code",
   "execution_count": null,
   "id": "c7302f45",
   "metadata": {},
   "outputs": [],
   "source": []
  }
 ],
 "metadata": {
  "kernelspec": {
   "display_name": "Python 3 (ipykernel)",
   "language": "python",
   "name": "python3"
  },
  "language_info": {
   "codemirror_mode": {
    "name": "ipython",
    "version": 3
   },
   "file_extension": ".py",
   "mimetype": "text/x-python",
   "name": "python",
   "nbconvert_exporter": "python",
   "pygments_lexer": "ipython3",
   "version": "3.8.10"
  }
 },
 "nbformat": 4,
 "nbformat_minor": 5
}
